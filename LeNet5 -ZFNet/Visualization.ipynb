{
 "cells": [
  {
   "cell_type": "code",
   "execution_count": 1,
   "id": "76f3732c",
   "metadata": {},
   "outputs": [],
   "source": [
    "import numpy as np\n",
    "import matplotlib.pyplot as plt"
   ]
  },
  {
   "cell_type": "code",
   "execution_count": 2,
   "id": "8c45d446",
   "metadata": {},
   "outputs": [],
   "source": [
    "from keras.models import load_model\n",
    "model_lenet5 = load_model(\"./LeNet5.hdf5\", compile=False)\n",
    "model_zfnet = load_model(\"./ZFNet.hdf5\", compile=False)"
   ]
  },
  {
   "cell_type": "code",
   "execution_count": 3,
   "id": "5f50e41f",
   "metadata": {},
   "outputs": [],
   "source": [
    "from data import mnist_data\n",
    "X_train,Y_train,X_test,Y_test=mnist_data()\n",
    "y_pred_lenet5 = model_lenet5.predict(X_test)\n",
    "y_pred_zfnet = model_zfnet.predict(X_test)\n",
    "y_classes_lenet5 = [np.argmax(element) for element in y_pred_lenet5]\n",
    "y_classes_zfnet = [np.argmax(element) for element in y_pred_zfnet]"
   ]
  },
  {
   "cell_type": "code",
   "execution_count": 20,
   "id": "01e4f7db",
   "metadata": {},
   "outputs": [],
   "source": [
    "Y_test_acc = [np.argmax(element) for element in Y_test]"
   ]
  },
  {
   "cell_type": "code",
   "execution_count": 30,
   "id": "b54cf601",
   "metadata": {},
   "outputs": [
    {
     "name": "stdout",
     "output_type": "stream",
     "text": [
      "Accuracy of LeNet5: 98.57000000000001\n",
      "Accuracy of ZFNet: 98.77\n"
     ]
    }
   ],
   "source": [
    "from sklearn.metrics import accuracy_score,classification_report\n",
    "print('Accuracy of LeNet5:',accuracy_score(y_classes_lenet5,Y_test_acc)*100)\n",
    "print('Accuracy of ZFNet:',accuracy_score(y_classes_zfnet,Y_test_acc)*100)"
   ]
  },
  {
   "cell_type": "code",
   "execution_count": 51,
   "id": "d2e7fc4b",
   "metadata": {},
   "outputs": [
    {
     "data": {
      "text/plain": [
       "Text(0.5, 1.0, 'ZFNet Label: 9')"
      ]
     },
     "execution_count": 51,
     "metadata": {},
     "output_type": "execute_result"
    },
    {
     "data": {
      "image/png": "[encoded data removed]",
      "text/plain": [
       "<Figure size 432x288 with 2 Axes>"
      ]
     },
     "metadata": {
      "needs_background": "light"
     },
     "output_type": "display_data"
    }
   ],
   "source": [
    "import random\n",
    "num=random.randint(0,len(X_test))\n",
    "plt.subplot(121)\n",
    "plt.imshow(X_test[num],cmap='gray')\n",
    "plt.title('LENet5 Label: {}'.format(y_classes_lenet5[num]),fontsize = 15)\n",
    "plt.subplot(122)\n",
    "plt.imshow(X_test[num],cmap='gray')\n",
    "plt.title('ZFNet Label: {}'.format(y_classes_zfnet[num]),fontsize = 15)"
   ]
  },
  {
   "cell_type": "code",
   "execution_count": null,
   "id": "a44c4069",
   "metadata": {},
   "outputs": [],
   "source": []
  }
 ],
 "metadata": {
  "kernelspec": {
   "display_name": "tf_2.4",
   "language": "python",
   "name": "tf_2.4"
  },
  "language_info": {
   "codemirror_mode": {
    "name": "ipython",
    "version": 3
   },
   "file_extension": ".py",
   "mimetype": "text/x-python",
   "name": "python",
   "nbconvert_exporter": "python",
   "pygments_lexer": "ipython3",
   "version": "3.8.0"
  }
 },
 "nbformat": 4,
 "nbformat_minor": 5
}
