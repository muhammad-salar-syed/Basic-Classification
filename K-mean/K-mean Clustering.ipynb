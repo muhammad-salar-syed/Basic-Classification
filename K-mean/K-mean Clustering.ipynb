{
 "cells": [
  {
   "cell_type": "code",
   "execution_count": 1,
   "id": "29545edd",
   "metadata": {},
   "outputs": [],
   "source": [
    "import numpy as np\n",
    "import matplotlib.pyplot as plt\n",
    "import random"
   ]
  },
  {
   "cell_type": "code",
   "execution_count": 2,
   "id": "268e0562",
   "metadata": {},
   "outputs": [],
   "source": [
    "# Import mnist dataset\n",
    "from keras.datasets import mnist\n",
    "(x_train, y_train), (x_test, y_test) = mnist.load_data()"
   ]
  },
  {
   "cell_type": "code",
   "execution_count": 3,
   "id": "fdbc690e",
   "metadata": {},
   "outputs": [
    {
     "name": "stdout",
     "output_type": "stream",
     "text": [
      "shape of train dataset: (60000, 28, 28)\n",
      "shape of test dataset: (10000, 28, 28)\n",
      "shape of train labels: (60000,)\n",
      "shape of test labels: (10000,)\n"
     ]
    }
   ],
   "source": [
    "print('shape of train dataset:',x_train.shape)\n",
    "print('shape of test dataset:',x_test.shape)\n",
    "print('shape of train labels:',y_train.shape)\n",
    "print('shape of test labels:',y_test.shape)"
   ]
  },
  {
   "cell_type": "code",
   "execution_count": 4,
   "id": "4dcf6386",
   "metadata": {},
   "outputs": [
    {
     "name": "stdout",
     "output_type": "stream",
     "text": [
      "Label1: 5\n",
      "Label2: 0\n",
      "Label3: 4\n",
      "Label4: 1\n",
      "Label5: 9\n",
      "Label6: 2\n"
     ]
    },
    {
     "data": {
      "image/png": "[encoded data removed]",
      "text/plain": [
       "<Figure size 432x288 with 6 Axes>"
      ]
     },
     "metadata": {
      "needs_background": "light"
     },
     "output_type": "display_data"
    }
   ],
   "source": [
    "for i in range(6):\n",
    "    plt.subplot(3,3,i+1)\n",
    "    plt.imshow(x_train[i],cmap='gray')\n",
    "    print('Label'+str(i+1)+':',y_train[i])\n",
    "    plt.axis('off')"
   ]
  },
  {
   "cell_type": "code",
   "execution_count": 5,
   "id": "d68398ef",
   "metadata": {},
   "outputs": [
    {
     "name": "stdout",
     "output_type": "stream",
     "text": [
      "max value: 255\n",
      "min value: 0\n"
     ]
    }
   ],
   "source": [
    "print('max value:',x_train.max())\n",
    "print('min value:',x_train.min())"
   ]
  },
  {
   "cell_type": "code",
   "execution_count": 6,
   "id": "cd6c93d8",
   "metadata": {},
   "outputs": [
    {
     "name": "stdout",
     "output_type": "stream",
     "text": [
      "max value: 1.0\n",
      "min value: 0.0\n"
     ]
    }
   ],
   "source": [
    "# normalize\n",
    "x_train=x_train/255.\n",
    "x_test=x_test/255.\n",
    "\n",
    "print('max value:',x_train.max())\n",
    "print('min value:',x_train.min())"
   ]
  },
  {
   "cell_type": "code",
   "execution_count": 7,
   "id": "037765ca",
   "metadata": {},
   "outputs": [
    {
     "name": "stdout",
     "output_type": "stream",
     "text": [
      "(60000, 784)\n",
      "(10000, 784)\n"
     ]
    }
   ],
   "source": [
    "# Reshaping for training\n",
    "X_train = x_train.reshape(len(x_train),-1)\n",
    "X_test = x_test.reshape(len(x_test),-1)\n",
    "print(X_train.shape)\n",
    "print(X_test.shape)"
   ]
  },
  {
   "cell_type": "code",
   "execution_count": 8,
   "id": "80e43e1d",
   "metadata": {},
   "outputs": [
    {
     "name": "stdout",
     "output_type": "stream",
     "text": [
      "total_clusters: 10\n"
     ]
    }
   ],
   "source": [
    "total_clusters=len(np.unique(y_test))\n",
    "print('total_clusters:',total_clusters)"
   ]
  },
  {
   "cell_type": "code",
   "execution_count": 9,
   "id": "0b2f9da0",
   "metadata": {},
   "outputs": [
    {
     "name": "stderr",
     "output_type": "stream",
     "text": [
      "C:\\Users\\User\\anaconda3\\envs\\tf_2.4\\lib\\site-packages\\sklearn\\cluster\\_kmeans.py:870: FutureWarning: The default value of `n_init` will change from 3 to 'auto' in 1.4. Set the value of `n_init` explicitly to suppress the warning\n",
      "  warnings.warn(\n"
     ]
    },
    {
     "data": {
      "text/html": [
       "<style>#sk-container-id-1 {color: black;background-color: white;}#sk-container-id-1 pre{padding: 0;}#sk-container-id-1 div.sk-toggleable {background-color: white;}#sk-container-id-1 label.sk-toggleable__label {cursor: pointer;display: block;width: 100%;margin-bottom: 0;padding: 0.3em;box-sizing: border-box;text-align: center;}#sk-container-id-1 label.sk-toggleable__label-arrow:before {content: \"▸\";float: left;margin-right: 0.25em;color: #696969;}#sk-container-id-1 label.sk-toggleable__label-arrow:hover:before {color: black;}#sk-container-id-1 div.sk-estimator:hover label.sk-toggleable__label-arrow:before {color: black;}#sk-container-id-1 div.sk-toggleable__content {max-height: 0;max-width: 0;overflow: hidden;text-align: left;background-color: #f0f8ff;}#sk-container-id-1 div.sk-toggleable__content pre {margin: 0.2em;color: black;border-radius: 0.25em;background-color: #f0f8ff;}#sk-container-id-1 input.sk-toggleable__control:checked~div.sk-toggleable__content {max-height: 200px;max-width: 100%;overflow: auto;}#sk-container-id-1 input.sk-toggleable__control:checked~label.sk-toggleable__label-arrow:before {content: \"▾\";}#sk-container-id-1 div.sk-estimator input.sk-toggleable__control:checked~label.sk-toggleable__label {background-color: #d4ebff;}#sk-container-id-1 div.sk-label input.sk-toggleable__control:checked~label.sk-toggleable__label {background-color: #d4ebff;}#sk-container-id-1 input.sk-hidden--visually {border: 0;clip: rect(1px 1px 1px 1px);clip: rect(1px, 1px, 1px, 1px);height: 1px;margin: -1px;overflow: hidden;padding: 0;position: absolute;width: 1px;}#sk-container-id-1 div.sk-estimator {font-family: monospace;background-color: #f0f8ff;border: 1px dotted black;border-radius: 0.25em;box-sizing: border-box;margin-bottom: 0.5em;}#sk-container-id-1 div.sk-estimator:hover {background-color: #d4ebff;}#sk-container-id-1 div.sk-parallel-item::after {content: \"\";width: 100%;border-bottom: 1px solid gray;flex-grow: 1;}#sk-container-id-1 div.sk-label:hover label.sk-toggleable__label {background-color: #d4ebff;}#sk-container-id-1 div.sk-serial::before {content: \"\";position: absolute;border-left: 1px solid gray;box-sizing: border-box;top: 0;bottom: 0;left: 50%;z-index: 0;}#sk-container-id-1 div.sk-serial {display: flex;flex-direction: column;align-items: center;background-color: white;padding-right: 0.2em;padding-left: 0.2em;position: relative;}#sk-container-id-1 div.sk-item {position: relative;z-index: 1;}#sk-container-id-1 div.sk-parallel {display: flex;align-items: stretch;justify-content: center;background-color: white;position: relative;}#sk-container-id-1 div.sk-item::before, #sk-container-id-1 div.sk-parallel-item::before {content: \"\";position: absolute;border-left: 1px solid gray;box-sizing: border-box;top: 0;bottom: 0;left: 50%;z-index: -1;}#sk-container-id-1 div.sk-parallel-item {display: flex;flex-direction: column;z-index: 1;position: relative;background-color: white;}#sk-container-id-1 div.sk-parallel-item:first-child::after {align-self: flex-end;width: 50%;}#sk-container-id-1 div.sk-parallel-item:last-child::after {align-self: flex-start;width: 50%;}#sk-container-id-1 div.sk-parallel-item:only-child::after {width: 0;}#sk-container-id-1 div.sk-dashed-wrapped {border: 1px dashed gray;margin: 0 0.4em 0.5em 0.4em;box-sizing: border-box;padding-bottom: 0.4em;background-color: white;}#sk-container-id-1 div.sk-label label {font-family: monospace;font-weight: bold;display: inline-block;line-height: 1.2em;}#sk-container-id-1 div.sk-label-container {text-align: center;}#sk-container-id-1 div.sk-container {/* jupyter's `normalize.less` sets `[hidden] { display: none; }` but bootstrap.min.css set `[hidden] { display: none !important; }` so we also need the `!important` here to be able to override the default hidden behavior on the sphinx rendered scikit-learn.org. See: https://github.com/scikit-learn/scikit-learn/issues/21755 */display: inline-block !important;position: relative;}#sk-container-id-1 div.sk-text-repr-fallback {display: none;}</style><div id=\"sk-container-id-1\" class=\"sk-top-container\"><div class=\"sk-text-repr-fallback\"><pre>MiniBatchKMeans(n_clusters=10)</pre><b>In a Jupyter environment, please rerun this cell to show the HTML representation or trust the notebook. <br />On GitHub, the HTML representation is unable to render, please try loading this page with nbviewer.org.</b></div><div class=\"sk-container\" hidden><div class=\"sk-item\"><div class=\"sk-estimator sk-toggleable\"><input class=\"sk-toggleable__control sk-hidden--visually\" id=\"sk-estimator-id-1\" type=\"checkbox\" checked><label for=\"sk-estimator-id-1\" class=\"sk-toggleable__label sk-toggleable__label-arrow\">MiniBatchKMeans</label><div class=\"sk-toggleable__content\"><pre>MiniBatchKMeans(n_clusters=10)</pre></div></div></div></div></div>"
      ],
      "text/plain": [
       "MiniBatchKMeans(n_clusters=10)"
      ]
     },
     "execution_count": 9,
     "metadata": {},
     "output_type": "execute_result"
    }
   ],
   "source": [
    "from sklearn.cluster import MiniBatchKMeans\n",
    "kmeans = MiniBatchKMeans(n_clusters = total_clusters)\n",
    "kmeans.fit(X_train)"
   ]
  },
  {
   "cell_type": "code",
   "execution_count": 10,
   "id": "b3aca297",
   "metadata": {},
   "outputs": [
    {
     "name": "stdout",
     "output_type": "stream",
     "text": [
      "kmeans labels: [9 1 2 ... 3 7 8]\n",
      "length of labels: 60000\n",
      "kmeans clusters: 10\n"
     ]
    }
   ],
   "source": [
    "print('kmeans labels:',kmeans.labels_)\n",
    "print('length of labels:',len(kmeans.labels_))\n",
    "print('kmeans clusters:',kmeans.n_clusters)"
   ]
  },
  {
   "cell_type": "code",
   "execution_count": 11,
   "id": "196c689f",
   "metadata": {},
   "outputs": [],
   "source": [
    "def assigning_label(cluster_labels,y_train):\n",
    "\n",
    "    #Associating labels to each cluster in KMeans model\n",
    "    labels = {}\n",
    "\n",
    "    for i in range(len(np.unique(kmeans.labels_))):\n",
    "\n",
    "        index = np.where(cluster_labels == i,1,0)\n",
    "        num = np.bincount(y_train[index==1]).argmax()\n",
    "        labels[i] = num\n",
    "\n",
    "    return labels"
   ]
  },
  {
   "cell_type": "code",
   "execution_count": 12,
   "id": "dd055ca5",
   "metadata": {},
   "outputs": [
    {
     "name": "stdout",
     "output_type": "stream",
     "text": [
      "Assigned Labels {0: 1, 1: 0, 2: 4, 3: 9, 4: 1, 5: 2, 6: 7, 7: 6, 8: 8, 9: 3}\n",
      "10\n"
     ]
    }
   ],
   "source": [
    "assigned_labels=assigning_label(kmeans.labels_ ,y_train)\n",
    "print('Assigned Labels',assigned_labels)\n",
    "print(len(assigned_labels))"
   ]
  },
  {
   "cell_type": "code",
   "execution_count": 13,
   "id": "844b8b1d",
   "metadata": {},
   "outputs": [
    {
     "data": {
      "text/plain": [
       "60000"
      ]
     },
     "execution_count": 13,
     "metadata": {},
     "output_type": "execute_result"
    }
   ],
   "source": [
    "len(kmeans.labels_)"
   ]
  },
  {
   "cell_type": "code",
   "execution_count": 14,
   "id": "7a0336d3",
   "metadata": {},
   "outputs": [],
   "source": [
    "num_labels = np.random.rand(len(kmeans.labels_))\n",
    "for i in range(len(kmeans.labels_)):\n",
    "    num_labels[i] = assigned_labels[kmeans.labels_[i]]"
   ]
  },
  {
   "cell_type": "code",
   "execution_count": 15,
   "id": "338a1d46",
   "metadata": {},
   "outputs": [
    {
     "name": "stdout",
     "output_type": "stream",
     "text": [
      "60000\n"
     ]
    }
   ],
   "source": [
    "print(len(num_labels))"
   ]
  },
  {
   "cell_type": "code",
   "execution_count": 16,
   "id": "3206531d",
   "metadata": {},
   "outputs": [
    {
     "name": "stdout",
     "output_type": "stream",
     "text": [
      "[3 0 4 1 9 2 1 3 1 8 3 1 3 6 1]\n",
      "[5 0 4 1 9 2 1 3 1 4 3 5 3 6 1]\n"
     ]
    }
   ],
   "source": [
    "# Comparing Predicted values and Actual values\n",
    "print(num_labels[:15].astype('int'))\n",
    "print(y_train[:15])"
   ]
  },
  {
   "cell_type": "code",
   "execution_count": 17,
   "id": "c9e8fe75",
   "metadata": {},
   "outputs": [
    {
     "data": {
      "text/plain": [
       "33479"
      ]
     },
     "execution_count": 17,
     "metadata": {},
     "output_type": "execute_result"
    }
   ],
   "source": [
    "(y_train == num_labels).sum()"
   ]
  },
  {
   "cell_type": "code",
   "execution_count": 18,
   "id": "024db6b8",
   "metadata": {},
   "outputs": [
    {
     "name": "stdout",
     "output_type": "stream",
     "text": [
      "Accuracy: 0.5579833333333334\n"
     ]
    }
   ],
   "source": [
    "# Calculating accuracy score\n",
    "from sklearn.metrics import accuracy_score\n",
    "print('Accuracy:',accuracy_score(num_labels,y_train))"
   ]
  },
  {
   "cell_type": "code",
   "execution_count": 19,
   "id": "3539a116",
   "metadata": {},
   "outputs": [],
   "source": [
    "# Function to calculate metrics for the model\n",
    "def Metrics(model,output):\n",
    "  \n",
    "    print('Number of clusters is {}'.format(model.n_clusters))\n",
    "    print('Inertia : {}'.format(model.inertia_))\n",
    "    print('Homogeneity : {}'.format(metrics.homogeneity_score(output,model.labels_)))"
   ]
  },
  {
   "cell_type": "code",
   "execution_count": 20,
   "id": "8d91db98",
   "metadata": {},
   "outputs": [
    {
     "name": "stderr",
     "output_type": "stream",
     "text": [
      "C:\\Users\\User\\anaconda3\\envs\\tf_2.4\\lib\\site-packages\\sklearn\\cluster\\_kmeans.py:870: FutureWarning: The default value of `n_init` will change from 3 to 'auto' in 1.4. Set the value of `n_init` explicitly to suppress the warning\n",
      "  warnings.warn(\n"
     ]
    },
    {
     "name": "stdout",
     "output_type": "stream",
     "text": [
      "Number of clusters is 10\n",
      "Inertia : 2387485.3172592698\n",
      "Homogeneity : 0.42596009419158426\n",
      "Accuracy score : 0.49105\n",
      "\n",
      "\n"
     ]
    },
    {
     "name": "stderr",
     "output_type": "stream",
     "text": [
      "C:\\Users\\User\\anaconda3\\envs\\tf_2.4\\lib\\site-packages\\sklearn\\cluster\\_kmeans.py:870: FutureWarning: The default value of `n_init` will change from 3 to 'auto' in 1.4. Set the value of `n_init` explicitly to suppress the warning\n",
      "  warnings.warn(\n"
     ]
    },
    {
     "name": "stdout",
     "output_type": "stream",
     "text": [
      "Number of clusters is 16\n",
      "Inertia : 2198569.1384166735\n",
      "Homogeneity : 0.5570376615285751\n",
      "Accuracy score : 0.6434\n",
      "\n",
      "\n"
     ]
    },
    {
     "name": "stderr",
     "output_type": "stream",
     "text": [
      "C:\\Users\\User\\anaconda3\\envs\\tf_2.4\\lib\\site-packages\\sklearn\\cluster\\_kmeans.py:870: FutureWarning: The default value of `n_init` will change from 3 to 'auto' in 1.4. Set the value of `n_init` explicitly to suppress the warning\n",
      "  warnings.warn(\n"
     ]
    },
    {
     "name": "stdout",
     "output_type": "stream",
     "text": [
      "Number of clusters is 36\n",
      "Inertia : 1958297.9839278022\n",
      "Homogeneity : 0.6805543301579784\n",
      "Accuracy score : 0.7574833333333333\n",
      "\n",
      "\n"
     ]
    },
    {
     "name": "stderr",
     "output_type": "stream",
     "text": [
      "C:\\Users\\User\\anaconda3\\envs\\tf_2.4\\lib\\site-packages\\sklearn\\cluster\\_kmeans.py:870: FutureWarning: The default value of `n_init` will change from 3 to 'auto' in 1.4. Set the value of `n_init` explicitly to suppress the warning\n",
      "  warnings.warn(\n"
     ]
    },
    {
     "name": "stdout",
     "output_type": "stream",
     "text": [
      "Number of clusters is 64\n",
      "Inertia : 1797648.3337996188\n",
      "Homogeneity : 0.7459047941836585\n",
      "Accuracy score : 0.8194166666666667\n",
      "\n",
      "\n"
     ]
    },
    {
     "name": "stderr",
     "output_type": "stream",
     "text": [
      "C:\\Users\\User\\anaconda3\\envs\\tf_2.4\\lib\\site-packages\\sklearn\\cluster\\_kmeans.py:870: FutureWarning: The default value of `n_init` will change from 3 to 'auto' in 1.4. Set the value of `n_init` explicitly to suppress the warning\n",
      "  warnings.warn(\n"
     ]
    },
    {
     "name": "stdout",
     "output_type": "stream",
     "text": [
      "Number of clusters is 144\n",
      "Inertia : 1624672.6564055935\n",
      "Homogeneity : 0.8123686587476878\n",
      "Accuracy score : 0.8776833333333334\n",
      "\n",
      "\n"
     ]
    },
    {
     "name": "stderr",
     "output_type": "stream",
     "text": [
      "C:\\Users\\User\\anaconda3\\envs\\tf_2.4\\lib\\site-packages\\sklearn\\cluster\\_kmeans.py:870: FutureWarning: The default value of `n_init` will change from 3 to 'auto' in 1.4. Set the value of `n_init` explicitly to suppress the warning\n",
      "  warnings.warn(\n"
     ]
    },
    {
     "name": "stdout",
     "output_type": "stream",
     "text": [
      "Number of clusters is 256\n",
      "Inertia : 1505687.0761353108\n",
      "Homogeneity : 0.8434080654213966\n",
      "Accuracy score : 0.9019166666666667\n",
      "\n",
      "\n"
     ]
    }
   ],
   "source": [
    "from sklearn import metrics\n",
    "from sklearn.metrics import accuracy_score\n",
    "\n",
    "cluster_number = [10,16,36,64,144,256]\n",
    "\n",
    "for i in cluster_number:\n",
    "    total_clusters = len(np.unique(y_test))\n",
    "    \n",
    "    # Initialize the K-Means model\n",
    "    kmeans = MiniBatchKMeans(n_clusters = i)\n",
    "\n",
    "    # Fitting the model to training set\n",
    "    kmeans.fit(X_train)\n",
    "\n",
    "    # Calculating the metrics\n",
    "    Metrics(kmeans,y_train)\n",
    "\n",
    "    # Calculating reference_labels\n",
    "    reference_labels = assigning_label(kmeans.labels_,y_train)\n",
    "    #print(reference_labels\n",
    "    \n",
    "    # 'number_labels' is a list which denotes the number displayed in image\n",
    "    num_labels = np.random.rand(len(kmeans.labels_))\n",
    "\n",
    "    for i in range(len(kmeans.labels_)):\n",
    "        num_labels[i] = reference_labels[kmeans.labels_[i]]\n",
    "  \n",
    "    print('Accuracy score : {}'.format(accuracy_score(num_labels,y_train)))\n",
    "    print('\\n')"
   ]
  },
  {
   "cell_type": "code",
   "execution_count": 26,
   "id": "a555e80c",
   "metadata": {},
   "outputs": [
    {
     "name": "stderr",
     "output_type": "stream",
     "text": [
      "C:\\Users\\User\\anaconda3\\envs\\tf_2.4\\lib\\site-packages\\sklearn\\cluster\\_kmeans.py:870: FutureWarning: The default value of `n_init` will change from 3 to 'auto' in 1.4. Set the value of `n_init` explicitly to suppress the warning\n",
      "  warnings.warn(\n"
     ]
    },
    {
     "name": "stdout",
     "output_type": "stream",
     "text": [
      "Number of clusters is 256\n",
      "Inertia : 239895.9743354804\n",
      "Homogeneity : 0.8643085215298136\n",
      "Accuracy score : 0.9\n",
      "\n",
      "\n"
     ]
    }
   ],
   "source": [
    "# Initialize the K-Means model for 256 clusters\n",
    "kmeans = MiniBatchKMeans(n_clusters = 256)\n",
    "\n",
    "# Fitting the model to testing set\n",
    "kmeans.fit(X_test)\n",
    "\n",
    "# Calculating the metrics\n",
    "Metrics(kmeans,y_test)\n",
    "\n",
    "# Calculating the reference_labels\n",
    "reference_labels = assigning_label(kmeans.labels_,y_test)\n",
    "\n",
    "# 'number_labels' is a list which denotes the number displayed in image\n",
    "number_labels = np.random.rand(len(kmeans.labels_))\n",
    "for i in range(len(kmeans.labels_)):   \n",
    "    number_labels[i] = reference_labels[kmeans.labels_[i]]\n",
    "    \n",
    "print('Accuracy score : {}'.format(accuracy_score(number_labels,y_test)))\n",
    "print('\\n')"
   ]
  },
  {
   "cell_type": "code",
   "execution_count": 27,
   "id": "1aa01586",
   "metadata": {},
   "outputs": [
    {
     "name": "stdout",
     "output_type": "stream",
     "text": [
      "centroids shape: (256, 784)\n"
     ]
    }
   ],
   "source": [
    "# Cluster centroids is stored in 'centroids'\n",
    "centroids = kmeans.cluster_centers_\n",
    "print('centroids shape:',centroids.shape)"
   ]
  },
  {
   "cell_type": "code",
   "execution_count": 28,
   "id": "ff053cf9",
   "metadata": {},
   "outputs": [
    {
     "name": "stdout",
     "output_type": "stream",
     "text": [
      "min value: 0.0\n",
      "max value: 1.0\n"
     ]
    }
   ],
   "source": [
    "centroids = centroids.reshape(256,28,28)\n",
    "print('min value:',centroids.min())\n",
    "print('max value:',centroids.max())"
   ]
  },
  {
   "cell_type": "code",
   "execution_count": 29,
   "id": "988535a9",
   "metadata": {},
   "outputs": [],
   "source": [
    "centroids = centroids * 255"
   ]
  },
  {
   "cell_type": "code",
   "execution_count": 31,
   "id": "55a55c14",
   "metadata": {},
   "outputs": [
    {
     "data": {
      "image/png": "[encoded data removed]",
      "text/plain": [
       "<Figure size 432x288 with 6 Axes>"
      ]
     },
     "metadata": {
      "needs_background": "light"
     },
     "output_type": "display_data"
    }
   ],
   "source": [
    "for i in range(6):\n",
    "    plt.subplots_adjust(0.3)\n",
    "    plt.subplot(2,3,i+1)\n",
    "    plt.title('Number:{}'.format(reference_labels[i]),fontsize = 17)\n",
    "    plt.imshow(centroids[i],cmap='gray')"
   ]
  },
  {
   "cell_type": "code",
   "execution_count": null,
   "id": "eb71604b",
   "metadata": {},
   "outputs": [],
   "source": []
  }
 ],
 "metadata": {
  "kernelspec": {
   "display_name": "tf_2.4",
   "language": "python",
   "name": "tf_2.4"
  },
  "language_info": {
   "codemirror_mode": {
    "name": "ipython",
    "version": 3
   },
   "file_extension": ".py",
   "mimetype": "text/x-python",
   "name": "python",
   "nbconvert_exporter": "python",
   "pygments_lexer": "ipython3",
   "version": "3.8.0"
  }
 },
 "nbformat": 4,
 "nbformat_minor": 5
}
